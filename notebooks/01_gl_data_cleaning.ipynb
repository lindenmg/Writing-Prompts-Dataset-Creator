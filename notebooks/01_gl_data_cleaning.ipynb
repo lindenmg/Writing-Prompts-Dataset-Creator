{
 "cells": [
  {
   "cell_type": "markdown",
   "metadata": {},
   "source": [
    "Copyright 2024 Gabriel Lindenmaier\n",
    "\n",
    "Licensed under the Apache License, Version 2.0 (the \"License\");\n",
    "you may not use this file except in compliance with the License.\n",
    "You may obtain a copy of the License at\n",
    "\n",
    "http://www.apache.org/licenses/LICENSE-2.0\n",
    "\n",
    "Unless required by applicable law or agreed to in writing, software\n",
    "distributed under the License is distributed on an \"AS IS\" BASIS,\n",
    "WITHOUT WARRANTIES OR CONDITIONS OF ANY KIND, either express or implied.\n",
    "See the License for the specific language governing permissions and\n",
    "limitations under the License."
   ]
  },
  {
   "cell_type": "code",
   "execution_count": null,
   "metadata": {},
   "outputs": [],
   "source": [
    "import os\n",
    "import sys\n",
    "\n",
    "# In case of Jupyter notebooks leave out the __file__ variable.\n",
    "# AND ensure that the combination of \"..\" leads to the root directory\n",
    "project_root_path = os.path.realpath(os.path.join(\"../\"))\n",
    "sys.path.append(project_root_path)\n",
    "\n",
    "import re\n",
    "import pandas as pd\n",
    "import numpy as np\n",
    "import sqlite3\n",
    "\n",
    "from pathlib import Path\n",
    "\n",
    "from src.utils.settings import Config\n",
    "from src.data.data_cleaning import DataCleaner\n",
    "from src.data.vocab_coverage import VocabCoverage"
   ]
  },
  {
   "cell_type": "markdown",
   "metadata": {},
   "source": [
    "# Constants"
   ]
  },
  {
   "cell_type": "code",
   "execution_count": null,
   "metadata": {},
   "outputs": [],
   "source": [
    "cpu_cores = Config.hardware.n_cpu\n",
    "path_glove = Path(Config.path.data_external) / Config.path.glove_file"
   ]
  },
  {
   "cell_type": "markdown",
   "metadata": {},
   "source": [
    "# Data Loading"
   ]
  },
  {
   "cell_type": "code",
   "execution_count": null,
   "metadata": {},
   "outputs": [],
   "source": [
    "data_file = Config.path.data_folder\n",
    "data_base = Config.path.data_base\n",
    "sql_query = \"\"\"SELECT c.body as 'story', s.title as 'prompt', s.selftext as 'prompt_body'\n",
    "                    , s.score as 'prompt_score', c.score as 'story_score'\n",
    "FROM submissions as s, comments as c\n",
    "where s.score > 0 and s.num_comments > 0 and s.nsfw = 0\n",
    "    and (s.title like '%[WP]%' or s.title like '%[SP]%' or s.title like '%[RF]%' or s.title like '%[TT]%')\n",
    "    and s.title not like '%[EU]%' and s.title not like '%[CW]%' and s.title not like '%[IP]%'\n",
    "    and s.title not like '%[MP]%' and s.title not like '%[PI]%' and s.title not like '%[PM]%'\n",
    "    and s.title not like '%[CC]%' and s.title not like '%[OT]%'\n",
    "    and s.idstr = c.parent \n",
    "    and c.score > 0 and c.textlen > 400\n",
    "    and c.author not like 'WritingPromptsRobot' \n",
    "    and c.author not like 'WritingPromptsBot'\n",
    "    and c.author not like 'AutoModerator'\n",
    "    and c.author not like 'TotesMessenger'\n",
    "    and c.author not like 'totes_meta_bot'\n",
    "    and c.author not like 'PlaylisterBot'\n",
    "    and c.author not like 'LazyLinkerBot'\n",
    "order by c.score DESC, s.score DESC, c.textlen DESC;\"\"\""
   ]
  },
  {
   "cell_type": "code",
   "execution_count": null,
   "metadata": {},
   "outputs": [],
   "source": [
    "%%time\n",
    "conn = sqlite3.connect(data_base)\n",
    "data = pd.read_sql_query(sql_query, conn)"
   ]
  },
  {
   "cell_type": "code",
   "execution_count": null,
   "metadata": {},
   "outputs": [],
   "source": [
    "data.describe()  # 466,886 submissions"
   ]
  },
  {
   "cell_type": "code",
   "execution_count": null,
   "metadata": {},
   "outputs": [],
   "source": [
    "data.head()"
   ]
  },
  {
   "cell_type": "markdown",
   "metadata": {},
   "source": [
    "# Data Cleaning"
   ]
  },
  {
   "cell_type": "code",
   "execution_count": null,
   "metadata": {},
   "outputs": [],
   "source": [
    "%%time\n",
    "# Wall time: 2min 57s\n",
    "cleaner = DataCleaner()\n",
    "cleaner.clean_data(df=data, cpu_cores=cpu_cores)"
   ]
  },
  {
   "cell_type": "code",
   "execution_count": null,
   "metadata": {},
   "outputs": [],
   "source": [
    "data.head()"
   ]
  },
  {
   "cell_type": "code",
   "execution_count": null,
   "metadata": {},
   "outputs": [],
   "source": [
    "data.describe()  # 457,655"
   ]
  },
  {
   "cell_type": "markdown",
   "metadata": {},
   "source": [
    "# Test - For Finding New Things To Clean"
   ]
  },
  {
   "cell_type": "code",
   "execution_count": null,
   "metadata": {},
   "outputs": [],
   "source": [
    "%%time\n",
    "# To find confusable Unicode characters: https://unicode.org/cldr/utility/confusables.jsp?a=%3F&r=None\n",
    "# Misspellings list: https://en.wikipedia.org/wiki/Commonly_misspelled_English_words\n",
    "column = 'story'\n",
    "ptrn = False\n",
    "\n",
    "if ptrn:\n",
    "    pattern = re.compile(r'2FWritingPrompts', re.IGNORECASE)\n",
    "    idx = data[data[column].map(lambda s: re.search(pattern, s) is not None)].index\n",
    "else:\n",
    "    pattern = None\n",
    "    idx = data.index\n",
    "index = np.zeros_like(idx)\n",
    "index[:] = idx\n",
    "print(len(index))"
   ]
  },
  {
   "cell_type": "code",
   "execution_count": null,
   "metadata": {},
   "outputs": [],
   "source": [
    "np.random.shuffle(index)\n",
    "\n",
    "for prompt, descr, story in zip(data[\"prompt\"][index[:1]], data[\"prompt_body\"][index[:1]], data[\"story\"][index[:1]]):\n",
    "    sep = 80 * '~' + '\\n'\n",
    "    print(prompt)\n",
    "    print(sep)\n",
    "\n",
    "    if pattern is not None:\n",
    "        mo = re.findall(pattern, story)\n",
    "        if mo is not None:\n",
    "            for match in mo:\n",
    "                print(match)\n",
    "            print(sep)\n",
    "\n",
    "    print(descr)\n",
    "    print(sep)\n",
    "    print(story)"
   ]
  },
  {
   "cell_type": "markdown",
   "metadata": {},
   "source": [
    "## Find Strange Words, Signs & Misspellings"
   ]
  },
  {
   "cell_type": "code",
   "execution_count": null,
   "metadata": {},
   "outputs": [],
   "source": [
    "%%time\n",
    "# Wall time: 3min\n",
    "vocab_cover = VocabCoverage()\n",
    "l_data = [data[\"prompt_body\"], data[\"prompt\"], data[\"story\"]]\n",
    "oov_glove = vocab_cover.calculate_oov(l_data, path_glove, vector_count=2196017)\n",
    "# Added 89,777 tokens to vocab\n",
    "# Found tokens for 47.37% of d_vocab\n",
    "# Found tokens for 99.64% of all text"
   ]
  },
  {
   "cell_type": "code",
   "execution_count": null,
   "metadata": {},
   "outputs": [],
   "source": [
    "#oov_glove"
   ]
  },
  {
   "cell_type": "markdown",
   "metadata": {},
   "source": [
    "## Write Cleaned Data Into Database"
   ]
  },
  {
   "cell_type": "code",
   "execution_count": null,
   "metadata": {},
   "outputs": [],
   "source": [
    "%%time\n",
    "# Wall time: 5.15 s\n",
    "data.to_sql('cleaned', conn, if_exists='replace')  # , if_exists='replace'"
   ]
  }
 ],
 "metadata": {
  "kernelspec": {
   "display_name": "Python 3 (ipykernel)",
   "language": "python",
   "name": "python3"
  },
  "language_info": {
   "codemirror_mode": {
    "name": "ipython",
    "version": 3
   },
   "file_extension": ".py",
   "mimetype": "text/x-python",
   "name": "python",
   "nbconvert_exporter": "python",
   "pygments_lexer": "ipython3",
   "version": "3.6.15"
  },
  "pycharm": {
   "stem_cell": {
    "cell_type": "raw",
    "metadata": {
     "collapsed": false
    },
    "source": []
   }
  }
 },
 "nbformat": 4,
 "nbformat_minor": 4
}
