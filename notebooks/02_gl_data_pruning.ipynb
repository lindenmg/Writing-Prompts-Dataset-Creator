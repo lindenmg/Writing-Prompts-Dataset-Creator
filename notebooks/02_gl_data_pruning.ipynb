{
 "cells": [
  {
   "cell_type": "markdown",
   "metadata": {},
   "source": [
    "Copyright 2024 Gabriel Lindenmaier\n",
    "\n",
    "Licensed under the Apache License, Version 2.0 (the \"License\");\n",
    "you may not use this file except in compliance with the License.\n",
    "You may obtain a copy of the License at\n",
    "\n",
    "http://www.apache.org/licenses/LICENSE-2.0\n",
    "\n",
    "Unless required by applicable law or agreed to in writing, software\n",
    "distributed under the License is distributed on an \"AS IS\" BASIS,\n",
    "WITHOUT WARRANTIES OR CONDITIONS OF ANY KIND, either express or implied.\n",
    "See the License for the specific language governing permissions and\n",
    "limitations under the License."
   ]
  },
  {
   "cell_type": "code",
   "execution_count": null,
   "metadata": {},
   "outputs": [],
   "source": [
    "import os\n",
    "import sys\n",
    "\n",
    "# In case of Jupyter notebooks leave out the __file__ variable.\n",
    "# AND ensure that the combination of \"..\" leads to the root directory\n",
    "project_root_path = os.path.realpath(os.path.join(\"../\"))\n",
    "sys.path.append(project_root_path)\n",
    "\n",
    "import matplotlib.pyplot as plt\n",
    "import pandas as pd\n",
    "import re\n",
    "import sqlite3\n",
    "\n",
    "from pathlib import Path\n",
    "\n",
    "from src.utils.settings import Config\n",
    "from src.data.data_exploration import DataExplorer\n",
    "from src.data.data_pruning import DataPruner\n",
    "from src.data.vocab_coverage import VocabCoverage"
   ]
  },
  {
   "cell_type": "markdown",
   "metadata": {},
   "source": [
    "**Constants & Objects**"
   ]
  },
  {
   "cell_type": "code",
   "execution_count": null,
   "metadata": {},
   "outputs": [],
   "source": [
    "path_glove = Path(Config.path.data_external) / 'glove.840B.300d.txt'\n",
    "path_lang = Path(Config.path.data_external) / 'lid.176.bin'\n",
    "path_swear = Path(Config.path.data_external) / 'profanity_words.txt'\n",
    "cpu_cores = Config.hardware.n_cpu\n",
    "explorer = DataExplorer()\n",
    "filterer = DataPruner()"
   ]
  },
  {
   "cell_type": "markdown",
   "metadata": {},
   "source": [
    "## Data Loading"
   ]
  },
  {
   "cell_type": "code",
   "execution_count": null,
   "metadata": {},
   "outputs": [],
   "source": [
    "data_file = Config.path.data_folder\n",
    "data_base = Config.path.data_base\n",
    "sql_query = \"\"\"\n",
    "SELECT c.prompt, c.prompt_body, c.story, c.prompt_score, c.story_score\n",
    "FROM cleaned as c\n",
    "order by c.prompt ASC, c.story_score DESC, c.prompt_score DESC;\"\"\""
   ]
  },
  {
   "cell_type": "code",
   "execution_count": null,
   "metadata": {},
   "outputs": [],
   "source": [
    "data_base"
   ]
  },
  {
   "cell_type": "code",
   "execution_count": null,
   "metadata": {},
   "outputs": [],
   "source": [
    "%%time\n",
    "conn = sqlite3.connect(data_base)\n",
    "data = pd.read_sql_query(sql_query, conn)"
   ]
  },
  {
   "cell_type": "code",
   "execution_count": null,
   "metadata": {},
   "outputs": [],
   "source": [
    "data.describe()  # 457,655 submissions"
   ]
  },
  {
   "cell_type": "code",
   "execution_count": null,
   "metadata": {},
   "outputs": [],
   "source": [
    "data.head()"
   ]
  },
  {
   "cell_type": "code",
   "execution_count": null,
   "metadata": {},
   "outputs": [],
   "source": [
    "# Search for prompt: Describe a brutal torture\n",
    "# Morse code prompt: [WP] Your hobby is electronics. You build a Ham radio, and start broadcasting in Morse code\n",
    "# Feedback very appreciated\n",
    "# because it violates .{,2}Rule \\d\n",
    "# submission on writing prompts"
   ]
  },
  {
   "cell_type": "code",
   "execution_count": null,
   "metadata": {},
   "outputs": [],
   "source": [
    "%%time\n",
    "explorer.find_submissions(data, regex=r'', use_regex=False, column='prompt')"
   ]
  },
  {
   "cell_type": "code",
   "execution_count": null,
   "metadata": {},
   "outputs": [],
   "source": [
    "explorer.display_random_submission(df=data)"
   ]
  },
  {
   "cell_type": "markdown",
   "metadata": {},
   "source": [
    "%%time\n",
    "ptrn = re.compile(r'\\bwilly\\b', re.IGNORECASE)\n",
    "df = data[data['story'].map(lambda s: re.search(ptrn, s) is None)]"
   ]
  },
  {
   "cell_type": "code",
   "execution_count": null,
   "metadata": {},
   "outputs": [],
   "source": [
    "df = data"
   ]
  },
  {
   "cell_type": "code",
   "execution_count": null,
   "metadata": {},
   "outputs": [],
   "source": [
    "%%time\n",
    "ptrn = re.compile(r'\\s')\n",
    "l = df['story'].map(lambda s: len(re.split(ptrn, s)))\n",
    "l = l[l > 99]\n",
    "l = l[l < 697]\n",
    "l = l.values\n",
    "print(f'Stories: {len(l):,}; Words: {l.sum():,}')\n",
    "# In case of 100 <= words <= 348 ==> Pruned Stories: 128,028; Words: 28,869,251\n",
    "# In case of 100 <= words <= 522 ==> Pruned Stories: 207,550; Words: 63,194,872\n",
    "# In case of 100 <= words <= 696 ==> Pruned Stories: 264,360; Words: 97,500,092\n",
    "# In case of 100 <= words <= 850 ==> Pruned Stories: 297,900; Words: 123,274,657"
   ]
  },
  {
   "cell_type": "code",
   "execution_count": null,
   "metadata": {},
   "outputs": [],
   "source": [
    "_ = plt.hist(l, bins=25, range=[100, 600])"
   ]
  },
  {
   "cell_type": "markdown",
   "metadata": {},
   "source": [
    "# Data Pruning"
   ]
  },
  {
   "cell_type": "code",
   "execution_count": null,
   "metadata": {},
   "outputs": [],
   "source": [
    "%%time\n",
    "# Wall time: 5min 16s\n",
    "filterer.prune_data(data, cpu_cores=cpu_cores)"
   ]
  },
  {
   "cell_type": "markdown",
   "metadata": {},
   "source": [
    "# Stats"
   ]
  },
  {
   "cell_type": "code",
   "execution_count": null,
   "metadata": {},
   "outputs": [],
   "source": [
    "%%time\n",
    "# Wall time: 2min 27s\n",
    "vocab_cover = VocabCoverage()\n",
    "l_data = [data[\"prompt_body\"], data[\"prompt\"], data[\"story\"]]\n",
    "oov_glove = vocab_cover.calculate_oov(l_data, path_glove, vector_count=2196017)\n",
    "del l_data\n",
    "# Added 78622 tokens to vocab\n",
    "# Found tokens for 55.66% of d_vocab\n",
    "# Found tokens for 99.80% of all text"
   ]
  },
  {
   "cell_type": "code",
   "execution_count": null,
   "metadata": {},
   "outputs": [],
   "source": [
    "#oov_glove"
   ]
  },
  {
   "cell_type": "code",
   "execution_count": null,
   "metadata": {},
   "outputs": [],
   "source": [
    "del oov_glove"
   ]
  },
  {
   "cell_type": "code",
   "execution_count": null,
   "metadata": {},
   "outputs": [],
   "source": [
    "data.describe()  # 373,288 submissions"
   ]
  },
  {
   "cell_type": "code",
   "execution_count": null,
   "metadata": {},
   "outputs": [],
   "source": [
    "data.head()"
   ]
  },
  {
   "cell_type": "markdown",
   "metadata": {},
   "source": [
    "# Write Pruned Data Into Database"
   ]
  },
  {
   "cell_type": "code",
   "execution_count": null,
   "metadata": {},
   "outputs": [],
   "source": [
    "%%time\n",
    "# Wall time: 4.26 s\n",
    "data.to_sql('pruned', conn)  # , if_exists='replace'"
   ]
  }
 ],
 "metadata": {
  "kernelspec": {
   "display_name": "Python 3 (ipykernel)",
   "language": "python",
   "name": "python3"
  },
  "language_info": {
   "codemirror_mode": {
    "name": "ipython",
    "version": 3
   },
   "file_extension": ".py",
   "mimetype": "text/x-python",
   "name": "python",
   "nbconvert_exporter": "python",
   "pygments_lexer": "ipython3",
   "version": "3.6.15"
  },
  "pycharm": {
   "stem_cell": {
    "cell_type": "raw",
    "metadata": {
     "collapsed": false
    },
    "source": []
   }
  }
 },
 "nbformat": 4,
 "nbformat_minor": 4
}
